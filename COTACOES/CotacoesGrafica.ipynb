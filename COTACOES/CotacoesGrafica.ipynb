{
 "cells": [
  {
   "cell_type": "code",
   "execution_count": 1,
   "metadata": {},
   "outputs": [],
   "source": [
    "import requests\n",
    "from tkinter import *\n",
    "\n",
    "def pegar_cotacoes():\n",
    "    requisicao = requests.get(\"https://economia.awesomeapi.com.br/last/USD-BRL,EUR-BRL,BTC-BRL\")\n",
    "    \n",
    "    requisicao_dic = requisicao.json()\n",
    "    \n",
    "    cotacao_dolar = requisicao_dic['USDBRL']['bid']\n",
    "    cotacao_euro = requisicao_dic['EURBRL']['bid']\n",
    "    cotacao_btc = requisicao_dic['BTCBRL']['bid']\n",
    "    \n",
    "    texto = f'''\n",
    "    Dólar: {cotacao_dolar}\n",
    "    Euro: {cotacao_euro}\n",
    "    BTC: {cotacao_btc}''' \n",
    "    \n",
    "    texto_cotacoes[\"text\"] = texto\n",
    "    \n",
    "\n",
    "janela = Tk()\n",
    "janela.title(\"Cotação Moedas Atual\")\n",
    "\n",
    "texto_orientacao = Label(janela, text=\"Clique no botão para ver as cotações das Moedas\")\n",
    "texto_orientacao.grid(column=0, row=0, padx=20, pady=20)\n",
    "\n",
    "botao = Button(janela, text=\"Buscar Cotações Dólar/Euro/BTC\", command=pegar_cotacoes)\n",
    "botao.grid(column=0, row=1, padx=20, pady=20)\n",
    "\n",
    "texto_cotacoes = Label(janela, text=\"\")\n",
    "texto_cotacoes.grid(column=0, row=2)\n",
    "\n",
    "janela.mainloop()\n",
    "\n",
    "\n",
    "\n",
    "\n",
    "\n"
   ]
  }
 ],
 "metadata": {
  "interpreter": {
   "hash": "d089b0e96f8146bc4da276e5f6fd11fc47757954be1134e7e8e7d3795c6ca405"
  },
  "kernelspec": {
   "display_name": "Python 3.9.7 64-bit ('COTACOES': venv)",
   "name": "python3"
  },
  "language_info": {
   "codemirror_mode": {
    "name": "ipython",
    "version": 3
   },
   "file_extension": ".py",
   "mimetype": "text/x-python",
   "name": "python",
   "nbconvert_exporter": "python",
   "pygments_lexer": "ipython3",
   "version": "3.9.7"
  }
 },
 "nbformat": 4,
 "nbformat_minor": 5
}
